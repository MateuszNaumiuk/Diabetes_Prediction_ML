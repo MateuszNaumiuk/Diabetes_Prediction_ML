{
 "cells": [
  {
   "cell_type": "code",
   "execution_count": 25,
   "id": "06cb8626",
   "metadata": {},
   "outputs": [
    {
     "name": "stdout",
     "output_type": "stream",
     "text": [
      "0.8376623376623377\n"
     ]
    }
   ],
   "source": [
    "import pandas as pd\n",
    "from sklearn.ensemble import RandomForestClassifier\n",
    "from sklearn.model_selection import train_test_split\n",
    "from sklearn.metrics import accuracy_score\n",
    "import joblib\n",
    "\n",
    "# Read the diabetes dataset\n",
    "diabetes_data = pd.read_csv('./datasheets/diabetes.csv')\n",
    "\n",
    "# Separate the features (X) and the target variable (y)\n",
    "X_input = diabetes_data.drop(columns=['Outcome'])\n",
    "y = diabetes_data['Outcome']\n",
    "\n",
    "# Split the data into training and testing sets\n",
    "X_input_train, input_test, y_train, y_test = train_test_split(X_input, y, test_size=0.2)\n",
    "\n",
    "# Create a RandomForestClassifier model\n",
    "model = RandomForestClassifier()\n",
    "\n",
    "# Fit the model to the training data\n",
    "model.fit(X_input_train, y_train)\n",
    "\n",
    "# Save the trained model to a file\n",
    "joblib.dump(model, 'diabetes_model.joblib')\n",
    "\n",
    "# Make predictions on the testing data\n",
    "predictions = model.predict(input_test)\n",
    "\n",
    "# Calculate the accuracy score\n",
    "score = accuracy_score(y_test, predictions)\n",
    "\n",
    "# Print the accuracy score\n",
    "print(score)"
   ]
  },
  {
   "cell_type": "code",
   "execution_count": null,
   "id": "aa735a8e",
   "metadata": {},
   "outputs": [],
   "source": []
  }
 ],
 "metadata": {
  "kernelspec": {
   "display_name": "Python 3 (ipykernel)",
   "language": "python",
   "name": "python3"
  },
  "language_info": {
   "codemirror_mode": {
    "name": "ipython",
    "version": 3
   },
   "file_extension": ".py",
   "mimetype": "text/x-python",
   "name": "python",
   "nbconvert_exporter": "python",
   "pygments_lexer": "ipython3",
   "version": "3.10.6"
  }
 },
 "nbformat": 4,
 "nbformat_minor": 5
}
